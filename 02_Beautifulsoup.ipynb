{
 "cells": [
  {
   "cell_type": "code",
   "execution_count": 3,
   "id": "2152a44b-1545-4862-b3a3-ccf6f2cce66a",
   "metadata": {},
   "outputs": [],
   "source": [
    "from bs4 import BeautifulSoup"
   ]
  },
  {
   "cell_type": "code",
   "execution_count": 8,
   "id": "2c0586e6-f0c4-4ef9-a4ce-d47253592253",
   "metadata": {},
   "outputs": [],
   "source": [
    "with open(\"HTML Files/page1.html\") as f:\n",
    "    content = f.read()"
   ]
  },
  {
   "cell_type": "code",
   "execution_count": 9,
   "id": "04bda8e7-e5f2-4fa0-8bf5-f22e59ca7285",
   "metadata": {},
   "outputs": [],
   "source": [
    "soup = BeautifulSoup(content, \"html.parser\")"
   ]
  },
  {
   "cell_type": "code",
   "execution_count": 10,
   "id": "c1cdd0a2-e35e-4ee2-aae1-b0fca8d19ac0",
   "metadata": {},
   "outputs": [],
   "source": [
    "h3s = soup.find_all(\"h3\")"
   ]
  },
  {
   "cell_type": "code",
   "execution_count": 11,
   "id": "a20b4e3a-77d6-4ea4-b9a3-ab91dfee6f75",
   "metadata": {},
   "outputs": [
    {
     "data": {
      "text/plain": [
       "[<h3><a href=\"frankenstein_20/index.html\" title=\"Frankenstein\">Frankenstein</a></h3>,\n",
       " <h3><a href=\"forever-rockers-the-rocker-12_19/index.html\" title=\"Forever Rockers (The Rocker #12)\">Forever Rockers (The Rocker ...</a></h3>,\n",
       " <h3><a href=\"fighting-fate-fighting-6_18/index.html\" title=\"Fighting Fate (Fighting #6)\">Fighting Fate (Fighting #6)</a></h3>,\n",
       " <h3><a href=\"emma_17/index.html\" title=\"Emma\">Emma</a></h3>,\n",
       " <h3><a href=\"eat-pray-love_16/index.html\" title=\"Eat, Pray, Love\">Eat, Pray, Love</a></h3>,\n",
       " <h3><a href=\"deep-under-walker-security-1_15/index.html\" title=\"Deep Under (Walker Security #1)\">Deep Under (Walker Security ...</a></h3>,\n",
       " <h3><a href=\"choosing-our-religion-the-spiritual-lives-of-americas-nones_14/index.html\" title=\"Choosing Our Religion: The Spiritual Lives of America's Nones\">Choosing Our Religion: The ...</a></h3>,\n",
       " <h3><a href=\"charlie-and-the-chocolate-factory-charlie-bucket-1_13/index.html\" title=\"Charlie and the Chocolate Factory (Charlie Bucket #1)\">Charlie and the Chocolate ...</a></h3>,\n",
       " <h3><a href=\"charitys-cross-charles-towne-belles-4_12/index.html\" title=\"Charity's Cross (Charles Towne Belles #4)\">Charity's Cross (Charles Towne ...</a></h3>,\n",
       " <h3><a href=\"bright-lines_11/index.html\" title=\"Bright Lines\">Bright Lines</a></h3>,\n",
       " <h3><a href=\"bridget-joness-diary-bridget-jones-1_10/index.html\" title=\"Bridget Jones's Diary (Bridget Jones #1)\">Bridget Jones's Diary (Bridget ...</a></h3>,\n",
       " <h3><a href=\"bounty-colorado-mountain-7_9/index.html\" title=\"Bounty (Colorado Mountain #7)\">Bounty (Colorado Mountain #7)</a></h3>,\n",
       " <h3><a href=\"blood-defense-samantha-brinkman-1_8/index.html\" title=\"Blood Defense (Samantha Brinkman #1)\">Blood Defense (Samantha Brinkman ...</a></h3>,\n",
       " <h3><a href=\"bleach-vol-1-strawberry-and-the-soul-reapers-bleach-1_7/index.html\" title=\"Bleach, Vol. 1: Strawberry and the Soul Reapers (Bleach #1)\">Bleach, Vol. 1: Strawberry ...</a></h3>,\n",
       " <h3><a href=\"beyond-good-and-evil_6/index.html\" title=\"Beyond Good and Evil\">Beyond Good and Evil</a></h3>,\n",
       " <h3><a href=\"alice-in-wonderland-alices-adventures-in-wonderland-1_5/index.html\" title=\"Alice in Wonderland (Alice's Adventures in Wonderland #1)\">Alice in Wonderland (Alice's ...</a></h3>,\n",
       " <h3><a href=\"ajin-demi-human-volume-1-ajin-demi-human-1_4/index.html\" title=\"Ajin: Demi-Human, Volume 1 (Ajin: Demi-Human #1)\">Ajin: Demi-Human, Volume 1 ...</a></h3>,\n",
       " <h3><a href=\"a-spys-devotion-the-regency-spies-of-london-1_3/index.html\" title=\"A Spy's Devotion (The Regency Spies of London #1)\">A Spy's Devotion (The ...</a></h3>,\n",
       " <h3><a href=\"1st-to-die-womens-murder-club-1_2/index.html\" title=\"1st to Die (Women's Murder Club #1)\">1st to Die (Women's ...</a></h3>,\n",
       " <h3><a href=\"1000-places-to-see-before-you-die_1/index.html\" title=\"1,000 Places to See Before You Die\">1,000 Places to See ...</a></h3>]"
      ]
     },
     "execution_count": 11,
     "metadata": {},
     "output_type": "execute_result"
    }
   ],
   "source": [
    "h3s"
   ]
  },
  {
   "cell_type": "code",
   "execution_count": 14,
   "id": "a78d13e2-c546-434e-a175-e88ba9b09e25",
   "metadata": {},
   "outputs": [],
   "source": [
    "articles = soup.select(\"article.product_pod\")"
   ]
  },
  {
   "cell_type": "code",
   "execution_count": 32,
   "id": "066014bf-315f-4b80-a76e-e4d4163f5914",
   "metadata": {},
   "outputs": [],
   "source": [
    "items = []\n",
    "for article in articles:\n",
    "    title = article.find(\"h3\").find(\"a\")[\"title\"]\n",
    "    price = article.select_one(\"p.price_color\").text.split(\"£\")[1]\n",
    "    rating_element = article.select_one(\"p.star-rating\")\n",
    "    rating = rating_element['class'][1]\n",
    "    items.append([title, price, rating])"
   ]
  },
  {
   "cell_type": "code",
   "execution_count": 33,
   "id": "3c105ad3-2198-435e-98af-163a098ad511",
   "metadata": {},
   "outputs": [
    {
     "data": {
      "text/plain": [
       "[['Frankenstein', '38.00', 'Two'],\n",
       " ['Forever Rockers (The Rocker #12)', '28.80', 'Three'],\n",
       " ['Fighting Fate (Fighting #6)', '39.24', 'Three'],\n",
       " ['Emma', '32.93', 'Two'],\n",
       " ['Eat, Pray, Love', '51.32', 'Three'],\n",
       " ['Deep Under (Walker Security #1)', '47.09', 'Five'],\n",
       " [\"Choosing Our Religion: The Spiritual Lives of America's Nones\",\n",
       "  '28.42',\n",
       "  'Four'],\n",
       " ['Charlie and the Chocolate Factory (Charlie Bucket #1)', '22.85', 'Three'],\n",
       " [\"Charity's Cross (Charles Towne Belles #4)\", '41.24', 'One'],\n",
       " ['Bright Lines', '39.07', 'Five'],\n",
       " [\"Bridget Jones's Diary (Bridget Jones #1)\", '29.82', 'One'],\n",
       " ['Bounty (Colorado Mountain #7)', '37.26', 'Four'],\n",
       " ['Blood Defense (Samantha Brinkman #1)', '20.30', 'Three'],\n",
       " ['Bleach, Vol. 1: Strawberry and the Soul Reapers (Bleach #1)',\n",
       "  '34.65',\n",
       "  'Five'],\n",
       " ['Beyond Good and Evil', '43.38', 'One'],\n",
       " [\"Alice in Wonderland (Alice's Adventures in Wonderland #1)\", '55.53', 'One'],\n",
       " ['Ajin: Demi-Human, Volume 1 (Ajin: Demi-Human #1)', '57.06', 'Four'],\n",
       " [\"A Spy's Devotion (The Regency Spies of London #1)\", '16.97', 'Five'],\n",
       " [\"1st to Die (Women's Murder Club #1)\", '53.98', 'One'],\n",
       " ['1,000 Places to See Before You Die', '26.08', 'Five']]"
      ]
     },
     "execution_count": 33,
     "metadata": {},
     "output_type": "execute_result"
    }
   ],
   "source": [
    "items"
   ]
  },
  {
   "cell_type": "code",
   "execution_count": 22,
   "id": "eb606c97-e87f-4da9-a106-f4192ba15f68",
   "metadata": {},
   "outputs": [],
   "source": [
    "import pandas as pd"
   ]
  },
  {
   "cell_type": "code",
   "execution_count": 34,
   "id": "88c854db-20a0-4abc-b96c-7310c7703a22",
   "metadata": {},
   "outputs": [],
   "source": [
    "df = pd.DataFrame(items, columns=[\"Book Title\", \"Price\", \"Rating\"])"
   ]
  },
  {
   "cell_type": "code",
   "execution_count": 35,
   "id": "8cdf0135-4d9f-481a-b520-c0bf57a99fc7",
   "metadata": {},
   "outputs": [
    {
     "data": {
      "text/html": [
       "<div>\n",
       "<style scoped>\n",
       "    .dataframe tbody tr th:only-of-type {\n",
       "        vertical-align: middle;\n",
       "    }\n",
       "\n",
       "    .dataframe tbody tr th {\n",
       "        vertical-align: top;\n",
       "    }\n",
       "\n",
       "    .dataframe thead th {\n",
       "        text-align: right;\n",
       "    }\n",
       "</style>\n",
       "<table border=\"1\" class=\"dataframe\">\n",
       "  <thead>\n",
       "    <tr style=\"text-align: right;\">\n",
       "      <th></th>\n",
       "      <th>Book Title</th>\n",
       "      <th>Price</th>\n",
       "      <th>Rating</th>\n",
       "    </tr>\n",
       "  </thead>\n",
       "  <tbody>\n",
       "    <tr>\n",
       "      <th>0</th>\n",
       "      <td>Frankenstein</td>\n",
       "      <td>38.00</td>\n",
       "      <td>Two</td>\n",
       "    </tr>\n",
       "    <tr>\n",
       "      <th>1</th>\n",
       "      <td>Forever Rockers (The Rocker #12)</td>\n",
       "      <td>28.80</td>\n",
       "      <td>Three</td>\n",
       "    </tr>\n",
       "    <tr>\n",
       "      <th>2</th>\n",
       "      <td>Fighting Fate (Fighting #6)</td>\n",
       "      <td>39.24</td>\n",
       "      <td>Three</td>\n",
       "    </tr>\n",
       "    <tr>\n",
       "      <th>3</th>\n",
       "      <td>Emma</td>\n",
       "      <td>32.93</td>\n",
       "      <td>Two</td>\n",
       "    </tr>\n",
       "    <tr>\n",
       "      <th>4</th>\n",
       "      <td>Eat, Pray, Love</td>\n",
       "      <td>51.32</td>\n",
       "      <td>Three</td>\n",
       "    </tr>\n",
       "    <tr>\n",
       "      <th>5</th>\n",
       "      <td>Deep Under (Walker Security #1)</td>\n",
       "      <td>47.09</td>\n",
       "      <td>Five</td>\n",
       "    </tr>\n",
       "    <tr>\n",
       "      <th>6</th>\n",
       "      <td>Choosing Our Religion: The Spiritual Lives of ...</td>\n",
       "      <td>28.42</td>\n",
       "      <td>Four</td>\n",
       "    </tr>\n",
       "    <tr>\n",
       "      <th>7</th>\n",
       "      <td>Charlie and the Chocolate Factory (Charlie Buc...</td>\n",
       "      <td>22.85</td>\n",
       "      <td>Three</td>\n",
       "    </tr>\n",
       "    <tr>\n",
       "      <th>8</th>\n",
       "      <td>Charity's Cross (Charles Towne Belles #4)</td>\n",
       "      <td>41.24</td>\n",
       "      <td>One</td>\n",
       "    </tr>\n",
       "    <tr>\n",
       "      <th>9</th>\n",
       "      <td>Bright Lines</td>\n",
       "      <td>39.07</td>\n",
       "      <td>Five</td>\n",
       "    </tr>\n",
       "    <tr>\n",
       "      <th>10</th>\n",
       "      <td>Bridget Jones's Diary (Bridget Jones #1)</td>\n",
       "      <td>29.82</td>\n",
       "      <td>One</td>\n",
       "    </tr>\n",
       "    <tr>\n",
       "      <th>11</th>\n",
       "      <td>Bounty (Colorado Mountain #7)</td>\n",
       "      <td>37.26</td>\n",
       "      <td>Four</td>\n",
       "    </tr>\n",
       "    <tr>\n",
       "      <th>12</th>\n",
       "      <td>Blood Defense (Samantha Brinkman #1)</td>\n",
       "      <td>20.30</td>\n",
       "      <td>Three</td>\n",
       "    </tr>\n",
       "    <tr>\n",
       "      <th>13</th>\n",
       "      <td>Bleach, Vol. 1: Strawberry and the Soul Reaper...</td>\n",
       "      <td>34.65</td>\n",
       "      <td>Five</td>\n",
       "    </tr>\n",
       "    <tr>\n",
       "      <th>14</th>\n",
       "      <td>Beyond Good and Evil</td>\n",
       "      <td>43.38</td>\n",
       "      <td>One</td>\n",
       "    </tr>\n",
       "    <tr>\n",
       "      <th>15</th>\n",
       "      <td>Alice in Wonderland (Alice's Adventures in Won...</td>\n",
       "      <td>55.53</td>\n",
       "      <td>One</td>\n",
       "    </tr>\n",
       "    <tr>\n",
       "      <th>16</th>\n",
       "      <td>Ajin: Demi-Human, Volume 1 (Ajin: Demi-Human #1)</td>\n",
       "      <td>57.06</td>\n",
       "      <td>Four</td>\n",
       "    </tr>\n",
       "    <tr>\n",
       "      <th>17</th>\n",
       "      <td>A Spy's Devotion (The Regency Spies of London #1)</td>\n",
       "      <td>16.97</td>\n",
       "      <td>Five</td>\n",
       "    </tr>\n",
       "    <tr>\n",
       "      <th>18</th>\n",
       "      <td>1st to Die (Women's Murder Club #1)</td>\n",
       "      <td>53.98</td>\n",
       "      <td>One</td>\n",
       "    </tr>\n",
       "    <tr>\n",
       "      <th>19</th>\n",
       "      <td>1,000 Places to See Before You Die</td>\n",
       "      <td>26.08</td>\n",
       "      <td>Five</td>\n",
       "    </tr>\n",
       "  </tbody>\n",
       "</table>\n",
       "</div>"
      ],
      "text/plain": [
       "                                           Book Title  Price Rating\n",
       "0                                        Frankenstein  38.00    Two\n",
       "1                    Forever Rockers (The Rocker #12)  28.80  Three\n",
       "2                         Fighting Fate (Fighting #6)  39.24  Three\n",
       "3                                                Emma  32.93    Two\n",
       "4                                     Eat, Pray, Love  51.32  Three\n",
       "5                     Deep Under (Walker Security #1)  47.09   Five\n",
       "6   Choosing Our Religion: The Spiritual Lives of ...  28.42   Four\n",
       "7   Charlie and the Chocolate Factory (Charlie Buc...  22.85  Three\n",
       "8           Charity's Cross (Charles Towne Belles #4)  41.24    One\n",
       "9                                        Bright Lines  39.07   Five\n",
       "10           Bridget Jones's Diary (Bridget Jones #1)  29.82    One\n",
       "11                      Bounty (Colorado Mountain #7)  37.26   Four\n",
       "12               Blood Defense (Samantha Brinkman #1)  20.30  Three\n",
       "13  Bleach, Vol. 1: Strawberry and the Soul Reaper...  34.65   Five\n",
       "14                               Beyond Good and Evil  43.38    One\n",
       "15  Alice in Wonderland (Alice's Adventures in Won...  55.53    One\n",
       "16   Ajin: Demi-Human, Volume 1 (Ajin: Demi-Human #1)  57.06   Four\n",
       "17  A Spy's Devotion (The Regency Spies of London #1)  16.97   Five\n",
       "18                1st to Die (Women's Murder Club #1)  53.98    One\n",
       "19                 1,000 Places to See Before You Die  26.08   Five"
      ]
     },
     "execution_count": 35,
     "metadata": {},
     "output_type": "execute_result"
    }
   ],
   "source": [
    "df"
   ]
  },
  {
   "cell_type": "code",
   "execution_count": 36,
   "id": "9779adb3-3c2b-4b4e-99a5-8d64a91457f2",
   "metadata": {},
   "outputs": [],
   "source": [
    "df.to_csv(\"Books_data.csv\", index=False)"
   ]
  }
 ],
 "metadata": {
  "kernelspec": {
   "display_name": "Python 3 (ipykernel)",
   "language": "python",
   "name": "python3"
  },
  "language_info": {
   "codemirror_mode": {
    "name": "ipython",
    "version": 3
   },
   "file_extension": ".py",
   "mimetype": "text/x-python",
   "name": "python",
   "nbconvert_exporter": "python",
   "pygments_lexer": "ipython3",
   "version": "3.12.7"
  }
 },
 "nbformat": 4,
 "nbformat_minor": 5
}
